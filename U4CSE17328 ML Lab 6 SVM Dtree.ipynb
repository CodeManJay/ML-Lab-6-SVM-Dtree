{
 "cells": [
  {
   "cell_type": "markdown",
   "metadata": {},
   "source": [
    "# U4CSE17328\n",
    "## Sreenivas Jayanth Yadhati"
   ]
  },
  {
   "cell_type": "code",
   "execution_count": 84,
   "metadata": {},
   "outputs": [],
   "source": [
    "import numpy as np\n",
    "import pandas as pd"
   ]
  },
  {
   "cell_type": "code",
   "execution_count": 81,
   "metadata": {},
   "outputs": [
    {
     "name": "stdout",
     "output_type": "stream",
     "text": [
      "        0\n",
      "2.0   1.0\n",
      "8.0   5.0\n",
      "1.8   1.5\n",
      "8.0   8.0\n",
      "0.6   1.0\n",
      "11.0  9.0\n"
     ]
    }
   ],
   "source": [
    "X1 = [1, 5, 1.5, 8, 1, 9]\n",
    "X2 = [2, 8, 1.8, 8, 0.6, 11]\n",
    "X  = pd.DataFrame(X1,X2)\n",
    "y  = [0,1,0,1,0,1]\n",
    "print(X)"
   ]
  },
  {
   "cell_type": "code",
   "execution_count": 5,
   "metadata": {},
   "outputs": [
    {
     "data": {
      "image/png": "[encoded data removed]",
      "text/plain": [
       "<Figure size 432x288 with 1 Axes>"
      ]
     },
     "metadata": {
      "needs_background": "light"
     },
     "output_type": "display_data"
    }
   ],
   "source": [
    "import matplotlib.pyplot as plt\n",
    "plt.scatter(X1,X2)\n",
    "plt.show()"
   ]
  },
  {
   "cell_type": "code",
   "execution_count": 6,
   "metadata": {},
   "outputs": [
    {
     "name": "stdout",
     "output_type": "stream",
     "text": [
      "[0 1]\n"
     ]
    }
   ],
   "source": [
    "from sklearn import svm\n",
    "clf = svm.SVC(kernel='linear', C = 1.0)\n",
    "clf.fit(X,y)\n",
    "l = [0.58, 10.58]\n",
    "m = [0.76, 10.76]\n",
    "n = pd.DataFrame(l,m)\n",
    "print(clf.predict(n))"
   ]
  },
  {
   "cell_type": "code",
   "execution_count": 11,
   "metadata": {},
   "outputs": [
    {
     "name": "stdout",
     "output_type": "stream",
     "text": [
      "[0.57142857]\n"
     ]
    },
    {
     "data": {
      "image/png": "[encoded data removed]",
      "text/plain": [
       "<Figure size 432x288 with 1 Axes>"
      ]
     },
     "metadata": {
      "needs_background": "light"
     },
     "output_type": "display_data"
    }
   ],
   "source": [
    "w = clf.coef_[0]\n",
    "\n",
    "print(w)\n",
    "\n",
    "a = -w[0]\n",
    "\n",
    "xx = np.linspace(0,12)\n",
    "\n",
    "yy = a * xx - clf.intercept_[0]\n",
    "\n",
    "h0 = plt.plot(xx, yy, 'k-', label=\"non weighted div\")\n",
    "\n",
    "plt.scatter(X1, X2, c = y)\n",
    "plt.show()"
   ]
  },
  {
   "cell_type": "markdown",
   "metadata": {},
   "source": [
    "### SVM Implementation"
   ]
  },
  {
   "cell_type": "code",
   "execution_count": 12,
   "metadata": {},
   "outputs": [
    {
     "name": "stdout",
     "output_type": "stream",
     "text": [
      "SVC(kernel='linear')\n",
      "              precision    recall  f1-score   support\n",
      "\n",
      "           0       1.00      1.00      1.00        50\n",
      "           1       1.00      0.98      0.99        50\n",
      "           2       0.98      1.00      0.99        50\n",
      "\n",
      "    accuracy                           0.99       150\n",
      "   macro avg       0.99      0.99      0.99       150\n",
      "weighted avg       0.99      0.99      0.99       150\n",
      "\n",
      "[[50  0  0]\n",
      " [ 0 49  1]\n",
      " [ 0  0 50]]\n"
     ]
    }
   ],
   "source": [
    "from sklearn import datasets\n",
    "from sklearn import metrics\n",
    "from sklearn.svm import SVC\n",
    "\n",
    "dataset = datasets.load_iris()\n",
    "clf.fit(dataset.data, dataset.target)\n",
    "print(clf)\n",
    "expected = dataset.target\n",
    "predicted = clf.predict(dataset.data)\n",
    "print(metrics.classification_report(expected, predicted))\n",
    "print(metrics.confusion_matrix(expected, predicted))"
   ]
  },
  {
   "cell_type": "markdown",
   "metadata": {},
   "source": [
    "### Knn implementation"
   ]
  },
  {
   "cell_type": "code",
   "execution_count": 14,
   "metadata": {},
   "outputs": [
    {
     "name": "stdout",
     "output_type": "stream",
     "text": [
      "              precision    recall  f1-score   support\n",
      "\n",
      "           0       1.00      1.00      1.00        50\n",
      "           1       0.96      0.94      0.95        50\n",
      "           2       0.94      0.96      0.95        50\n",
      "\n",
      "    accuracy                           0.97       150\n",
      "   macro avg       0.97      0.97      0.97       150\n",
      "weighted avg       0.97      0.97      0.97       150\n",
      "\n",
      "[[50  0  0]\n",
      " [ 0 47  3]\n",
      " [ 0  2 48]]\n"
     ]
    }
   ],
   "source": [
    "from sklearn.neighbors import KNeighborsClassifier\n",
    "\n",
    "classifier = KNeighborsClassifier(n_neighbors=5)\n",
    "classifier.fit(dataset.data, dataset.target)\n",
    "pre = classifier.predict(dataset.data)\n",
    "print(metrics.classification_report(dataset.target, pre))\n",
    "\n",
    "print(metrics.confusion_matrix(dataset.target, pre))"
   ]
  },
  {
   "cell_type": "markdown",
   "metadata": {},
   "source": [
    "### Logistic Regerssion Implementation"
   ]
  },
  {
   "cell_type": "code",
   "execution_count": 31,
   "metadata": {},
   "outputs": [
    {
     "name": "stdout",
     "output_type": "stream",
     "text": [
      "              precision    recall  f1-score   support\n",
      "\n",
      "           0       1.00      1.00      1.00        50\n",
      "           1       0.98      0.94      0.96        50\n",
      "           2       0.94      0.98      0.96        50\n",
      "\n",
      "    accuracy                           0.97       150\n",
      "   macro avg       0.97      0.97      0.97       150\n",
      "weighted avg       0.97      0.97      0.97       150\n",
      "\n",
      "[[50  0  0]\n",
      " [ 0 47  3]\n",
      " [ 0  1 49]]\n"
     ]
    },
    {
     "name": "stderr",
     "output_type": "stream",
     "text": [
      "c:\\users\\91918\\appdata\\local\\programs\\python\\python38\\lib\\site-packages\\sklearn\\linear_model\\_logistic.py:762: ConvergenceWarning: lbfgs failed to converge (status=1):\n",
      "STOP: TOTAL NO. of ITERATIONS REACHED LIMIT.\n",
      "\n",
      "Increase the number of iterations (max_iter) or scale the data as shown in:\n",
      "    https://scikit-learn.org/stable/modules/preprocessing.html\n",
      "Please also refer to the documentation for alternative solver options:\n",
      "    https://scikit-learn.org/stable/modules/linear_model.html#logistic-regression\n",
      "  n_iter_i = _check_optimize_result(\n"
     ]
    }
   ],
   "source": [
    "from sklearn.linear_model import LogisticRegression\n",
    "clf = LogisticRegression(random_state=0).fit(dataset.data, dataset.target)\n",
    "log = clf.predict(dataset.data)\n",
    "print(metrics.classification_report(dataset.target, pl))\n",
    "print(metrics.confusion_matrix(dataset.target, pl))"
   ]
  },
  {
   "cell_type": "markdown",
   "metadata": {},
   "source": [
    "### SVM RBF Kernel implemetation"
   ]
  },
  {
   "cell_type": "code",
   "execution_count": 27,
   "metadata": {},
   "outputs": [
    {
     "name": "stdout",
     "output_type": "stream",
     "text": [
      "SVC(C=1, gamma=0.7)\n",
      "              precision    recall  f1-score   support\n",
      "\n",
      "           0       1.00      1.00      1.00        50\n",
      "           1       1.00      0.94      0.97        50\n",
      "           2       0.94      1.00      0.97        50\n",
      "\n",
      "    accuracy                           0.98       150\n",
      "   macro avg       0.98      0.98      0.98       150\n",
      "weighted avg       0.98      0.98      0.98       150\n",
      "\n",
      "[[50  0  0]\n",
      " [ 0 47  3]\n",
      " [ 0  0 50]]\n"
     ]
    }
   ],
   "source": [
    "clf1 = svm.SVC(kernel='rbf', gamma=0.7, C=1)\n",
    "clf1.fit(dataset.data, dataset.target)\n",
    "\n",
    "print(clf1)\n",
    "\n",
    "predicted1 = clf1.predict(dataset.data)\n",
    "\n",
    "# summarize the fit of the model\n",
    "\n",
    "print(metrics.classification_report(dataset.target, predicted1))\n",
    "\n",
    "print(metrics.confusion_matrix(dataset.target, predicted1))\n"
   ]
  },
  {
   "cell_type": "markdown",
   "metadata": {},
   "source": [
    "### SVM  Polynomial Kernel Implementation"
   ]
  },
  {
   "cell_type": "code",
   "execution_count": 28,
   "metadata": {},
   "outputs": [
    {
     "name": "stdout",
     "output_type": "stream",
     "text": [
      "SVC(C=1, kernel='poly')\n",
      "              precision    recall  f1-score   support\n",
      "\n",
      "           0       1.00      1.00      1.00        50\n",
      "           1       1.00      0.92      0.96        50\n",
      "           2       0.93      1.00      0.96        50\n",
      "\n",
      "    accuracy                           0.97       150\n",
      "   macro avg       0.98      0.97      0.97       150\n",
      "weighted avg       0.98      0.97      0.97       150\n",
      "\n",
      "[[50  0  0]\n",
      " [ 0 46  4]\n",
      " [ 0  0 50]]\n"
     ]
    }
   ],
   "source": [
    "clf2 = svm.SVC(kernel='poly', degree=3, C=1)\n",
    "\n",
    "clf2.fit(dataset.data, dataset.target)\n",
    "\n",
    "print(clf2)\n",
    "\n",
    "predicted2 = clf2.predict(dataset.data)\n",
    "\n",
    "# summarize the fit of the model\n",
    "\n",
    "print(metrics.classification_report(dataset.target, predicted2))\n",
    "\n",
    "print(metrics.confusion_matrix(dataset.target, predicted2))\n"
   ]
  },
  {
   "cell_type": "code",
   "execution_count": 121,
   "metadata": {},
   "outputs": [
    {
     "name": "stdout",
     "output_type": "stream",
     "text": [
      "Accuracy score for svm : 0.9933333333333333\n",
      "Accuracy score for knn : 0.9666666666666667\n",
      "Acccuracy score fro logistic Reg : 0.9733333333333334\n"
     ]
    }
   ],
   "source": [
    "from sklearn.metrics import confusion_matrix, accuracy_score, classification_report\n",
    "print(\"Accuracy score for svm :\",accuracy_score(dataset.target,predicted))\n",
    "print(\"Accuracy score for knn :\",accuracy_score(dataset.target,pre))\n",
    "print(\"Acccuracy score fro logistic Reg :\",accuracy_score(dataset.target,log) )"
   ]
  },
  {
   "cell_type": "markdown",
   "metadata": {},
   "source": [
    "## Comparision of Accuracy among SVM Kernels"
   ]
  },
  {
   "cell_type": "code",
   "execution_count": 122,
   "metadata": {},
   "outputs": [
    {
     "name": "stdout",
     "output_type": "stream",
     "text": [
      "Accuracy for linear_svm : 0.9933333333333333 Accuracy for rbf : 0.98 Accuracy for poly : 0.9733333333333334\n"
     ]
    }
   ],
   "source": [
    "print(\"Accuracy for linear_svm :\", accuracy_score(dataset.target,predicted),\"Accuracy for rbf :\",accuracy_score(dataset.target,predicted1),\"Accuracy for poly :\",accuracy_score(dataset.target,predicted2))"
   ]
  },
  {
   "cell_type": "markdown",
   "metadata": {},
   "source": [
    "# Decision Tree"
   ]
  },
  {
   "cell_type": "code",
   "execution_count": 123,
   "metadata": {},
   "outputs": [
    {
     "data": {
      "text/html": [
       "<div>\n",
       "<style scoped>\n",
       "    .dataframe tbody tr th:only-of-type {\n",
       "        vertical-align: middle;\n",
       "    }\n",
       "\n",
       "    .dataframe tbody tr th {\n",
       "        vertical-align: top;\n",
       "    }\n",
       "\n",
       "    .dataframe thead th {\n",
       "        text-align: right;\n",
       "    }\n",
       "</style>\n",
       "<table border=\"1\" class=\"dataframe\">\n",
       "  <thead>\n",
       "    <tr style=\"text-align: right;\">\n",
       "      <th></th>\n",
       "      <th>vhigh</th>\n",
       "      <th>vhigh.1</th>\n",
       "      <th>2</th>\n",
       "      <th>2.1</th>\n",
       "      <th>small</th>\n",
       "      <th>low</th>\n",
       "      <th>unacc</th>\n",
       "    </tr>\n",
       "  </thead>\n",
       "  <tbody>\n",
       "    <tr>\n",
       "      <th>0</th>\n",
       "      <td>vhigh</td>\n",
       "      <td>vhigh</td>\n",
       "      <td>2</td>\n",
       "      <td>2</td>\n",
       "      <td>small</td>\n",
       "      <td>med</td>\n",
       "      <td>unacc</td>\n",
       "    </tr>\n",
       "    <tr>\n",
       "      <th>1</th>\n",
       "      <td>vhigh</td>\n",
       "      <td>vhigh</td>\n",
       "      <td>2</td>\n",
       "      <td>2</td>\n",
       "      <td>small</td>\n",
       "      <td>high</td>\n",
       "      <td>unacc</td>\n",
       "    </tr>\n",
       "    <tr>\n",
       "      <th>2</th>\n",
       "      <td>vhigh</td>\n",
       "      <td>vhigh</td>\n",
       "      <td>2</td>\n",
       "      <td>2</td>\n",
       "      <td>med</td>\n",
       "      <td>low</td>\n",
       "      <td>unacc</td>\n",
       "    </tr>\n",
       "    <tr>\n",
       "      <th>3</th>\n",
       "      <td>vhigh</td>\n",
       "      <td>vhigh</td>\n",
       "      <td>2</td>\n",
       "      <td>2</td>\n",
       "      <td>med</td>\n",
       "      <td>med</td>\n",
       "      <td>unacc</td>\n",
       "    </tr>\n",
       "    <tr>\n",
       "      <th>4</th>\n",
       "      <td>vhigh</td>\n",
       "      <td>vhigh</td>\n",
       "      <td>2</td>\n",
       "      <td>2</td>\n",
       "      <td>med</td>\n",
       "      <td>high</td>\n",
       "      <td>unacc</td>\n",
       "    </tr>\n",
       "  </tbody>\n",
       "</table>\n",
       "</div>"
      ],
      "text/plain": [
       "   vhigh vhigh.1  2 2.1  small   low  unacc\n",
       "0  vhigh   vhigh  2   2  small   med  unacc\n",
       "1  vhigh   vhigh  2   2  small  high  unacc\n",
       "2  vhigh   vhigh  2   2    med   low  unacc\n",
       "3  vhigh   vhigh  2   2    med   med  unacc\n",
       "4  vhigh   vhigh  2   2    med  high  unacc"
      ]
     },
     "execution_count": 123,
     "metadata": {},
     "output_type": "execute_result"
    }
   ],
   "source": [
    "df = pd.read_csv(r'C:\\Users\\91918\\Desktop\\Lab6\\car.csv')\n",
    "df.head(5)"
   ]
  },
  {
   "cell_type": "code",
   "execution_count": 124,
   "metadata": {},
   "outputs": [
    {
     "name": "stdout",
     "output_type": "stream",
     "text": [
      "['med', 'low', 'high', 'vhigh']\n",
      "med      432\n",
      "low      432\n",
      "high     432\n",
      "vhigh    431\n",
      "Name: vhigh, dtype: int64\n",
      "['med', 'low', 'high', 'vhigh']\n",
      "med      432\n",
      "low      432\n",
      "high     432\n",
      "vhigh    431\n",
      "Name: vhigh.1, dtype: int64\n",
      "['4', '5more', '3', '2']\n",
      "4        432\n",
      "5more    432\n",
      "3        432\n",
      "2        431\n",
      "Name: 2, dtype: int64\n",
      "['4', 'more', '2']\n",
      "4       576\n",
      "more    576\n",
      "2       575\n",
      "Name: 2.1, dtype: int64\n",
      "['med', 'big', 'small']\n",
      "med      576\n",
      "big      576\n",
      "small    575\n",
      "Name: small, dtype: int64\n",
      "['med', 'high', 'low']\n",
      "med     576\n",
      "high    576\n",
      "low     575\n",
      "Name: low, dtype: int64\n",
      "['unacc', 'acc', 'good', 'vgood']\n",
      "unacc    1209\n",
      "acc       384\n",
      "good       69\n",
      "vgood      65\n",
      "Name: unacc, dtype: int64\n"
     ]
    }
   ],
   "source": [
    "print (list(df['vhigh'].value_counts().index))\n",
    "print (df['vhigh'].value_counts())\n",
    "print (list(df['vhigh.1'].value_counts().index))\n",
    "print (df['vhigh.1'].value_counts())\n",
    "print (list(df['2'].value_counts().index))\n",
    "print (df['2'].value_counts())\n",
    "print (list(df['2.1'].value_counts().index))\n",
    "print (df['2.1'].value_counts())\n",
    "print (list(df['small'].value_counts().index))\n",
    "print (df['small'].value_counts())\n",
    "print (list(df['low'].value_counts().index))\n",
    "print (df['low'].value_counts())\n",
    "print (list(df['unacc'].value_counts().index))\n",
    "print (df['unacc'].value_counts())"
   ]
  },
  {
   "cell_type": "code",
   "execution_count": 125,
   "metadata": {},
   "outputs": [],
   "source": [
    "df = df.rename(columns = {\"vhigh\":\"buying\",\"vhigh.1\":\"maint\",\"2\":\"doors\",\"2.1\":\"persons\",\"small\":\"lug_boot\",\"low\":\"safety\",\"unacc\":\"acceptance\"}) "
   ]
  },
  {
   "cell_type": "code",
   "execution_count": 126,
   "metadata": {},
   "outputs": [
    {
     "data": {
      "text/html": [
       "<div>\n",
       "<style scoped>\n",
       "    .dataframe tbody tr th:only-of-type {\n",
       "        vertical-align: middle;\n",
       "    }\n",
       "\n",
       "    .dataframe tbody tr th {\n",
       "        vertical-align: top;\n",
       "    }\n",
       "\n",
       "    .dataframe thead th {\n",
       "        text-align: right;\n",
       "    }\n",
       "</style>\n",
       "<table border=\"1\" class=\"dataframe\">\n",
       "  <thead>\n",
       "    <tr style=\"text-align: right;\">\n",
       "      <th></th>\n",
       "      <th>buying</th>\n",
       "      <th>maint</th>\n",
       "      <th>doors</th>\n",
       "      <th>persons</th>\n",
       "      <th>lug_boot</th>\n",
       "      <th>safety</th>\n",
       "      <th>acceptance</th>\n",
       "    </tr>\n",
       "  </thead>\n",
       "  <tbody>\n",
       "    <tr>\n",
       "      <th>0</th>\n",
       "      <td>vhigh</td>\n",
       "      <td>vhigh</td>\n",
       "      <td>2</td>\n",
       "      <td>2</td>\n",
       "      <td>small</td>\n",
       "      <td>med</td>\n",
       "      <td>unacc</td>\n",
       "    </tr>\n",
       "    <tr>\n",
       "      <th>1</th>\n",
       "      <td>vhigh</td>\n",
       "      <td>vhigh</td>\n",
       "      <td>2</td>\n",
       "      <td>2</td>\n",
       "      <td>small</td>\n",
       "      <td>high</td>\n",
       "      <td>unacc</td>\n",
       "    </tr>\n",
       "    <tr>\n",
       "      <th>2</th>\n",
       "      <td>vhigh</td>\n",
       "      <td>vhigh</td>\n",
       "      <td>2</td>\n",
       "      <td>2</td>\n",
       "      <td>med</td>\n",
       "      <td>low</td>\n",
       "      <td>unacc</td>\n",
       "    </tr>\n",
       "    <tr>\n",
       "      <th>3</th>\n",
       "      <td>vhigh</td>\n",
       "      <td>vhigh</td>\n",
       "      <td>2</td>\n",
       "      <td>2</td>\n",
       "      <td>med</td>\n",
       "      <td>med</td>\n",
       "      <td>unacc</td>\n",
       "    </tr>\n",
       "  </tbody>\n",
       "</table>\n",
       "</div>"
      ],
      "text/plain": [
       "  buying  maint doors persons lug_boot safety acceptance\n",
       "0  vhigh  vhigh     2       2    small    med      unacc\n",
       "1  vhigh  vhigh     2       2    small   high      unacc\n",
       "2  vhigh  vhigh     2       2      med    low      unacc\n",
       "3  vhigh  vhigh     2       2      med    med      unacc"
      ]
     },
     "execution_count": 126,
     "metadata": {},
     "output_type": "execute_result"
    }
   ],
   "source": [
    "df.head(4)"
   ]
  },
  {
   "cell_type": "code",
   "execution_count": 127,
   "metadata": {},
   "outputs": [
    {
     "data": {
      "text/html": [
       "<div>\n",
       "<style scoped>\n",
       "    .dataframe tbody tr th:only-of-type {\n",
       "        vertical-align: middle;\n",
       "    }\n",
       "\n",
       "    .dataframe tbody tr th {\n",
       "        vertical-align: top;\n",
       "    }\n",
       "\n",
       "    .dataframe thead th {\n",
       "        text-align: right;\n",
       "    }\n",
       "</style>\n",
       "<table border=\"1\" class=\"dataframe\">\n",
       "  <thead>\n",
       "    <tr style=\"text-align: right;\">\n",
       "      <th></th>\n",
       "      <th>buying</th>\n",
       "      <th>maint</th>\n",
       "      <th>doors</th>\n",
       "      <th>persons</th>\n",
       "      <th>lug_boot</th>\n",
       "      <th>safety</th>\n",
       "      <th>acceptance</th>\n",
       "    </tr>\n",
       "  </thead>\n",
       "  <tbody>\n",
       "    <tr>\n",
       "      <th>0</th>\n",
       "      <td>4</td>\n",
       "      <td>4</td>\n",
       "      <td>2</td>\n",
       "      <td>2</td>\n",
       "      <td>1</td>\n",
       "      <td>2</td>\n",
       "      <td>1</td>\n",
       "    </tr>\n",
       "    <tr>\n",
       "      <th>1</th>\n",
       "      <td>4</td>\n",
       "      <td>4</td>\n",
       "      <td>2</td>\n",
       "      <td>2</td>\n",
       "      <td>1</td>\n",
       "      <td>3</td>\n",
       "      <td>1</td>\n",
       "    </tr>\n",
       "    <tr>\n",
       "      <th>2</th>\n",
       "      <td>4</td>\n",
       "      <td>4</td>\n",
       "      <td>2</td>\n",
       "      <td>2</td>\n",
       "      <td>2</td>\n",
       "      <td>1</td>\n",
       "      <td>1</td>\n",
       "    </tr>\n",
       "    <tr>\n",
       "      <th>3</th>\n",
       "      <td>4</td>\n",
       "      <td>4</td>\n",
       "      <td>2</td>\n",
       "      <td>2</td>\n",
       "      <td>2</td>\n",
       "      <td>2</td>\n",
       "      <td>1</td>\n",
       "    </tr>\n",
       "    <tr>\n",
       "      <th>4</th>\n",
       "      <td>4</td>\n",
       "      <td>4</td>\n",
       "      <td>2</td>\n",
       "      <td>2</td>\n",
       "      <td>2</td>\n",
       "      <td>3</td>\n",
       "      <td>1</td>\n",
       "    </tr>\n",
       "  </tbody>\n",
       "</table>\n",
       "</div>"
      ],
      "text/plain": [
       "   buying  maint  doors  persons  lug_boot  safety  acceptance\n",
       "0       4      4      2        2         1       2           1\n",
       "1       4      4      2        2         1       3           1\n",
       "2       4      4      2        2         2       1           1\n",
       "3       4      4      2        2         2       2           1\n",
       "4       4      4      2        2         2       3           1"
      ]
     },
     "execution_count": 127,
     "metadata": {},
     "output_type": "execute_result"
    }
   ],
   "source": [
    "v = {'low':1, 'med':2,'high':3,'vhigh':4}\n",
    "df['buying'] = [v[i] for i in df['buying']]\n",
    "df['maint'] = [v[i] for i in df['maint']]\n",
    "s = {'small':1,'med':2,'big':3}\n",
    "df['lug_boot'] =  [s[i] for i in df['lug_boot']]\n",
    "l = {'low':1,'med':2,'high':3}\n",
    "df['safety'] =  [l[i] for i in df['safety']]\n",
    "u = {'unacc':1,'acc':2,'good':3,'vgood':4}\n",
    "df['acceptance'] = [u[i] for i in df['acceptance']]\n",
    "k = {'5more':5,'2':2,'3':3,'4':4}\n",
    "df['doors'] = [ k[i] for i in df['doors']]\n",
    "m = {'more':5,'2':2,\"4\":4}\n",
    "df['persons'] = [m[i] for i in df['persons']]\n",
    "df.head(5)"
   ]
  },
  {
   "cell_type": "code",
   "execution_count": 128,
   "metadata": {},
   "outputs": [
    {
     "name": "stdout",
     "output_type": "stream",
     "text": [
      "buying        1    2    3    4\n",
      "acceptance                    \n",
      "1           258  268  324  359\n",
      "2            89  115  108   72\n",
      "3            46   23    0    0\n",
      "4            39   26    0    0\n",
      "buying\n",
      "1    258\n",
      "2    268\n",
      "3    324\n",
      "4    359\n",
      "Name: 1, dtype: int64\n",
      "258\n"
     ]
    }
   ],
   "source": [
    "data_crosstab1 = pd.crosstab(df['acceptance'], df['buying'], margins = False)\n",
    "data_crosstab2 = pd.crosstab(df['acceptance'], df['maint'], margins = False)\n",
    "data_crosstab3 = pd.crosstab(df['acceptance'], df['doors'], margins = False)\n",
    "data_crosstab4 = pd.crosstab(df['acceptance'], df['persons'], margins = False)\n",
    "data_crosstab5 = pd.crosstab(df['acceptance'], df['lug_boot'], margins = False)\n",
    "data_crosstab6 = pd.crosstab(df['acceptance'], df['safety'], margins = False)\n",
    "print(data_crosstab1)\n",
    "print(data_crosstab1.iloc[0])\n",
    "print(data_crosstab1.iloc[0][1])"
   ]
  },
  {
   "cell_type": "code",
   "execution_count": 129,
   "metadata": {},
   "outputs": [],
   "source": [
    "def entropy(target_col):\n",
    "    elements,counts = np.unique(target_col,return_counts = True)\n",
    "    entropy = np.sum([(-counts[i]/np.sum(counts))*np.log2(counts[i]/np.sum(counts)) for i in range(len(elements))])\n",
    "    return entropy"
   ]
  },
  {
   "cell_type": "code",
   "execution_count": 130,
   "metadata": {},
   "outputs": [
    {
     "data": {
      "text/plain": [
       "1.9999992741466097"
      ]
     },
     "execution_count": 130,
     "metadata": {},
     "output_type": "execute_result"
    }
   ],
   "source": [
    "entropy(df['buying'])"
   ]
  },
  {
   "cell_type": "code",
   "execution_count": 131,
   "metadata": {},
   "outputs": [],
   "source": [
    "from sklearn.model_selection import train_test_split\n",
    "y = df['acceptance']\n",
    "df.drop('acceptance',axis='columns', inplace=True)\n",
    "X_train, X_test, y_train, y_test = train_test_split(df, y, test_size=0.2)"
   ]
  },
  {
   "cell_type": "markdown",
   "metadata": {},
   "source": [
    "## Decision Tree Implementation"
   ]
  },
  {
   "cell_type": "markdown",
   "metadata": {},
   "source": [
    "### Using Gini"
   ]
  },
  {
   "cell_type": "code",
   "execution_count": 132,
   "metadata": {},
   "outputs": [],
   "source": [
    "from sklearn.tree import DecisionTreeClassifier\n",
    "def train_using_gini(X_train, X_test, y_train): \n",
    "  \n",
    "    # Creating the classifier object \n",
    "    clf_gini = DecisionTreeClassifier(criterion = \"gini\", \n",
    "            random_state = 100,max_depth=3, min_samples_leaf=5) \n",
    "  \n",
    "    # Performing training \n",
    "    clf_gini.fit(X_train, y_train) \n",
    "    return clf_gini "
   ]
  },
  {
   "cell_type": "code",
   "execution_count": 143,
   "metadata": {},
   "outputs": [],
   "source": [
    "def tarin_using_entropy(X_train, X_test, y_train): \n",
    "  \n",
    "    # Decision tree with entropy \n",
    "    clf_entropy = DecisionTreeClassifier( \n",
    "            criterion = \"entropy\", random_state = 100, \n",
    "            max_depth = 3, min_samples_leaf = 5) \n",
    "  \n",
    "    # training \n",
    "    clf_entropy.fit(X_train, y_train) \n",
    "    return clf_entropy \n",
    "  "
   ]
  },
  {
   "cell_type": "code",
   "execution_count": 144,
   "metadata": {},
   "outputs": [],
   "source": [
    "def prediction(X_test, clf_object): \n",
    "  \n",
    "    # Predicton on test with giniIndex \n",
    "    y_pred = clf_object.predict(X_test) \n",
    "    print(\"Predicted values:\") \n",
    "    print(y_pred) \n",
    "    return y_pred "
   ]
  },
  {
   "cell_type": "code",
   "execution_count": 145,
   "metadata": {},
   "outputs": [],
   "source": [
    "def cal_accuracy(y_test, y_pred): \n",
    "      \n",
    "    print(\"Confusion Matrix: \", \n",
    "        confusion_matrix(y_test, y_pred)) \n",
    "      \n",
    "    print (\"Accuracy : \", \n",
    "    accuracy_score(y_test,y_pred)*100) \n",
    "      \n",
    "    print(\"Report : \", \n",
    "    classification_report(y_test, y_pred)) "
   ]
  },
  {
   "cell_type": "code",
   "execution_count": 146,
   "metadata": {},
   "outputs": [
    {
     "name": "stdout",
     "output_type": "stream",
     "text": [
      "Gini Accurarcy :\n",
      "Predicted values:\n",
      "[1 2 2 1 1 1 2 1 1 1 2 1 1 1 1 2 1 1 1 1 1 1 1 1 1 1 1 2 2 1 2 1 1 2 2 2 1\n",
      " 1 2 1 1 1 1 1 2 1 1 1 1 1 1 1 2 1 1 1 1 1 2 1 1 1 1 1 1 1 1 2 1 1 1 2 1 1\n",
      " 1 1 1 1 1 1 1 1 1 1 1 1 1 2 1 1 1 2 1 1 2 1 1 1 1 1 1 1 1 1 1 2 2 2 1 1 1\n",
      " 1 1 1 1 1 1 1 1 1 1 1 1 1 2 1 2 1 1 1 1 1 1 2 1 1 1 1 1 1 1 1 1 2 1 1 1 1\n",
      " 2 1 1 1 1 1 1 1 2 2 1 2 1 1 1 2 1 1 1 1 2 1 1 2 1 1 1 2 1 1 1 1 1 1 1 1 1\n",
      " 1 1 1 1 1 1 1 1 2 1 1 1 1 2 1 1 1 1 1 2 1 2 1 1 1 1 1 1 1 1 1 2 1 2 1 1 1\n",
      " 1 1 2 1 1 1 1 1 1 1 1 2 2 2 1 1 1 1 1 1 2 1 1 1 2 2 1 1 2 1 1 2 1 1 1 2 1\n",
      " 2 2 1 1 1 1 1 1 1 2 1 1 1 2 1 1 1 2 1 2 1 1 1 1 1 2 1 2 1 1 2 2 1 1 1 1 2\n",
      " 1 2 1 1 2 1 1 1 1 1 1 1 1 1 1 1 1 1 2 1 1 2 1 1 1 1 1 1 2 1 2 1 1 1 1 1 1\n",
      " 1 1 2 1 1 1 1 1 1 2 1 1 1]\n",
      "Confusion Matrix:  [[241   9   0   0]\n",
      " [ 35  36   0   0]\n",
      " [  0  13   0   0]\n",
      " [  0  12   0   0]]\n",
      "Accuracy :  80.05780346820809\n",
      "Report :                precision    recall  f1-score   support\n",
      "\n",
      "           1       0.87      0.96      0.92       250\n",
      "           2       0.51      0.51      0.51        71\n",
      "           3       0.00      0.00      0.00        13\n",
      "           4       0.00      0.00      0.00        12\n",
      "\n",
      "    accuracy                           0.80       346\n",
      "   macro avg       0.35      0.37      0.36       346\n",
      "weighted avg       0.74      0.80      0.77       346\n",
      "\n",
      "Entropy Accuracy\n",
      "Predicted values:\n",
      "[1 2 2 1 1 1 2 1 1 1 2 1 1 1 1 2 1 1 1 1 1 1 1 1 1 1 1 2 2 1 2 1 1 2 2 2 1\n",
      " 1 2 1 1 1 1 1 2 1 1 1 1 1 1 1 2 1 1 1 1 1 2 1 1 1 1 1 1 1 1 2 1 1 1 2 1 1\n",
      " 1 1 1 1 1 1 1 1 1 1 1 1 1 2 1 1 1 2 1 1 2 1 1 1 1 1 1 1 1 1 1 2 2 2 1 1 1\n",
      " 1 1 1 1 1 1 1 1 1 1 1 1 1 2 1 2 1 1 1 1 1 1 2 1 1 1 1 1 1 1 1 1 2 1 1 1 1\n",
      " 2 1 1 1 1 1 1 1 2 2 1 2 1 1 1 2 1 1 1 1 2 1 1 2 1 1 1 2 1 1 1 1 1 1 1 1 1\n",
      " 1 1 1 1 1 1 1 1 2 1 1 1 1 2 1 1 1 1 1 2 1 2 1 1 1 1 1 1 1 1 1 2 1 2 1 1 1\n",
      " 1 1 2 1 1 1 1 1 1 1 1 2 2 2 1 1 1 1 1 1 2 1 1 1 2 2 1 1 2 1 1 2 1 1 1 2 1\n",
      " 2 2 1 1 1 1 1 1 1 2 1 1 1 2 1 1 1 2 1 2 1 1 1 1 1 2 1 2 1 1 2 2 1 1 1 1 2\n",
      " 1 2 1 1 2 1 1 1 1 1 1 1 1 1 1 1 1 1 2 1 1 2 1 1 1 1 1 1 2 1 2 1 1 1 1 1 1\n",
      " 1 1 2 1 1 1 1 1 1 2 1 1 1]\n",
      "Confusion Matrix:  [[241   9   0   0]\n",
      " [ 35  36   0   0]\n",
      " [  0  13   0   0]\n",
      " [  0  12   0   0]]\n",
      "Accuracy :  80.05780346820809\n",
      "Report :                precision    recall  f1-score   support\n",
      "\n",
      "           1       0.87      0.96      0.92       250\n",
      "           2       0.51      0.51      0.51        71\n",
      "           3       0.00      0.00      0.00        13\n",
      "           4       0.00      0.00      0.00        12\n",
      "\n",
      "    accuracy                           0.80       346\n",
      "   macro avg       0.35      0.37      0.36       346\n",
      "weighted avg       0.74      0.80      0.77       346\n",
      "\n"
     ]
    },
    {
     "name": "stderr",
     "output_type": "stream",
     "text": [
      "c:\\users\\91918\\appdata\\local\\programs\\python\\python38\\lib\\site-packages\\sklearn\\metrics\\_classification.py:1221: UndefinedMetricWarning: Precision and F-score are ill-defined and being set to 0.0 in labels with no predicted samples. Use `zero_division` parameter to control this behavior.\n",
      "  _warn_prf(average, modifier, msg_start, len(result))\n",
      "c:\\users\\91918\\appdata\\local\\programs\\python\\python38\\lib\\site-packages\\sklearn\\metrics\\_classification.py:1221: UndefinedMetricWarning: Precision and F-score are ill-defined and being set to 0.0 in labels with no predicted samples. Use `zero_division` parameter to control this behavior.\n",
      "  _warn_prf(average, modifier, msg_start, len(result))\n"
     ]
    }
   ],
   "source": [
    "clf_gini = train_using_gini(X_train, X_test, y_train) \n",
    "clf_entropy = tarin_using_entropy(X_train, X_test, y_train) \n",
    "      \n",
    "print(\"Gini Accurarcy :\") \n",
    "y_pred_gini = prediction(X_test, clf_gini) \n",
    "cal_accuracy(y_test, y_pred_gini) \n",
    "      \n",
    "print(\"Entropy Accuracy\")\n",
    "y_pred_entropy = prediction(X_test, clf_entropy) \n",
    "cal_accuracy(y_test, y_pred_entropy) "
   ]
  },
  {
   "cell_type": "markdown",
   "metadata": {},
   "source": [
    "### Knn Implementation"
   ]
  },
  {
   "cell_type": "code",
   "execution_count": 141,
   "metadata": {},
   "outputs": [
    {
     "name": "stdout",
     "output_type": "stream",
     "text": [
      "              precision    recall  f1-score   support\n",
      "\n",
      "           1       0.98      0.98      0.98       250\n",
      "           2       0.88      0.94      0.91        71\n",
      "           3       0.82      0.69      0.75        13\n",
      "           4       1.00      0.75      0.86        12\n",
      "\n",
      "    accuracy                           0.96       346\n",
      "   macro avg       0.92      0.84      0.88       346\n",
      "weighted avg       0.96      0.96      0.96       346\n",
      "\n",
      "[[246   3   1   0]\n",
      " [  4  67   0   0]\n",
      " [  0   4   9   0]\n",
      " [  0   2   1   9]]\n"
     ]
    }
   ],
   "source": [
    "classifier = KNeighborsClassifier(n_neighbors=5)\n",
    "classifier.fit(X_train, y_train)\n",
    "y_pred = classifier.predict(X_test)\n",
    "print(metrics.classification_report(y_test, y_pred))\n",
    "print(metrics.confusion_matrix(y_test, pred))"
   ]
  },
  {
   "cell_type": "markdown",
   "metadata": {},
   "source": [
    "### Logistic Regression Implementation"
   ]
  },
  {
   "cell_type": "code",
   "execution_count": 142,
   "metadata": {},
   "outputs": [
    {
     "name": "stdout",
     "output_type": "stream",
     "text": [
      "              precision    recall  f1-score   support\n",
      "\n",
      "           1       0.92      0.92      0.92       250\n",
      "           2       0.60      0.65      0.62        71\n",
      "           3       0.40      0.15      0.22        13\n",
      "           4       0.67      0.67      0.67        12\n",
      "\n",
      "    accuracy                           0.83       346\n",
      "   macro avg       0.65      0.60      0.61       346\n",
      "weighted avg       0.82      0.83      0.82       346\n",
      "\n",
      "[[231  17   1   1]\n",
      " [ 21  46   1   3]\n",
      " [  0  11   2   0]\n",
      " [  0   3   1   8]]\n"
     ]
    },
    {
     "name": "stderr",
     "output_type": "stream",
     "text": [
      "c:\\users\\91918\\appdata\\local\\programs\\python\\python38\\lib\\site-packages\\sklearn\\linear_model\\_logistic.py:762: ConvergenceWarning: lbfgs failed to converge (status=1):\n",
      "STOP: TOTAL NO. of ITERATIONS REACHED LIMIT.\n",
      "\n",
      "Increase the number of iterations (max_iter) or scale the data as shown in:\n",
      "    https://scikit-learn.org/stable/modules/preprocessing.html\n",
      "Please also refer to the documentation for alternative solver options:\n",
      "    https://scikit-learn.org/stable/modules/linear_model.html#logistic-regression\n",
      "  n_iter_i = _check_optimize_result(\n"
     ]
    }
   ],
   "source": [
    "clf = LogisticRegression(random_state=0).fit(X_train, y_train)\n",
    "pred_y = clf.predict(X_test)\n",
    "print(metrics.classification_report(y_test, pred_y))\n",
    "print(metrics.confusion_matrix(y_test, pred_y))"
   ]
  },
  {
   "cell_type": "code",
   "execution_count": null,
   "metadata": {},
   "outputs": [],
   "source": []
  }
 ],
 "metadata": {
  "kernelspec": {
   "display_name": "Python 3",
   "language": "python",
   "name": "python3"
  },
  "language_info": {
   "codemirror_mode": {
    "name": "ipython",
    "version": 3
   },
   "file_extension": ".py",
   "mimetype": "text/x-python",
   "name": "python",
   "nbconvert_exporter": "python",
   "pygments_lexer": "ipython3",
   "version": "3.8.6"
  }
 },
 "nbformat": 4,
 "nbformat_minor": 2
}
